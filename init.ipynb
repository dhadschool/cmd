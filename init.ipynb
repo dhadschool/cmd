{
 "cells": [
  {
   "cell_type": "code",
   "execution_count": 1,
   "id": "8482bea7-7fc3-4e45-9c9f-032575564240",
   "metadata": {
    "execution": {
     "iopub.execute_input": "2022-09-12T09:04:04.719031Z",
     "iopub.status.busy": "2022-09-12T09:04:04.718596Z",
     "iopub.status.idle": "2022-09-12T09:04:04.729774Z",
     "shell.execute_reply": "2022-09-12T09:04:04.729099Z",
     "shell.execute_reply.started": "2022-09-12T09:04:04.718938Z"
    }
   },
   "outputs": [
    {
     "name": "stdout",
     "output_type": "stream",
     "text": [
      "Current date and time = 2022-09-12 09:04:04.726041\n",
      "Today's date:  = 12/9/2022\n",
      "The time is now: = 9:4:4\n"
     ]
    }
   ],
   "source": [
    "import datetime\n",
    "e = datetime.datetime.now()\n",
    "print (\"Current date and time = %s\" % e)\n",
    "print (\"Today's date:  = %s/%s/%s\" % (e.day, e.month, e.year))\n",
    "print (\"The time is now: = %s:%s:%s\" % (e.hour, e.minute, e.second))"
   ]
  },
  {
   "cell_type": "code",
   "execution_count": 1,
   "id": "e9d1b178-179f-427d-94d4-0ba41a43c0d8",
   "metadata": {
    "execution": {
     "iopub.execute_input": "2022-09-12T08:36:40.310456Z",
     "iopub.status.busy": "2022-09-12T08:36:40.310164Z",
     "iopub.status.idle": "2022-09-12T08:36:43.375099Z",
     "shell.execute_reply": "2022-09-12T08:36:43.374074Z",
     "shell.execute_reply.started": "2022-09-12T08:36:40.310395Z"
    }
   },
   "outputs": [
    {
     "name": "stdout",
     "output_type": "stream",
     "text": [
      "Hit:1 http://security.ubuntu.com/ubuntu focal-security InRelease\n",
      "Hit:2 http://archive.ubuntu.com/ubuntu focal InRelease\u001b[0m\u001b[33m\n",
      "Get:3 http://archive.ubuntu.com/ubuntu focal-updates InRelease [114 kB]\n",
      "Get:4 http://archive.ubuntu.com/ubuntu focal-backports InRelease [108 kB]\n",
      "Fetched 222 kB in 1s (286 kB/s)  \u001b[0m\u001b[33m\u001b[33m\n",
      "Reading package lists... Done\n",
      "Building dependency tree       \n",
      "Reading state information... Done\n",
      "All packages are up to date.\n",
      "Reading package lists... Done\n",
      "Building dependency tree       \n",
      "Reading state information... Done\n",
      "Calculating upgrade... Done\n",
      "0 upgraded, 0 newly installed, 0 to remove and 0 not upgraded.\n"
     ]
    }
   ],
   "source": [
    "! apt update\n",
    "! apt upgrade -y"
   ]
  },
  {
   "cell_type": "code",
   "execution_count": 2,
   "id": "c0c12df4-5e77-414d-afbc-f6931dd9404e",
   "metadata": {
    "execution": {
     "iopub.execute_input": "2022-09-12T08:36:43.376724Z",
     "iopub.status.busy": "2022-09-12T08:36:43.376533Z",
     "iopub.status.idle": "2022-09-12T08:36:43.567646Z",
     "shell.execute_reply": "2022-09-12T08:36:43.566679Z",
     "shell.execute_reply.started": "2022-09-12T08:36:43.376703Z"
    }
   },
   "outputs": [
    {
     "name": "stdout",
     "output_type": "stream",
     "text": [
      "1\n"
     ]
    }
   ],
   "source": [
    "! echo 1"
   ]
  }
 ],
 "metadata": {
  "kernelspec": {
   "display_name": "Python 3",
   "language": "python",
   "name": "python3"
  },
  "language_info": {
   "codemirror_mode": {
    "name": "ipython",
    "version": 3
   },
   "file_extension": ".py",
   "mimetype": "text/x-python",
   "name": "python",
   "nbconvert_exporter": "python",
   "pygments_lexer": "ipython3",
   "version": "3.8.10"
  }
 },
 "nbformat": 4,
 "nbformat_minor": 5
}
